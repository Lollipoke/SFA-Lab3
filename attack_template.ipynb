{
 "cells": [
  {
   "cell_type": "markdown",
   "id": "9d1ce393-313b-4f31-8cfb-4d14f7faf7d7",
   "metadata": {},
   "source": [
    "# FA7 - AES 128 DFA on real target\n",
    "\n",
    "With this exercise, you will practice fault injection on a real target doing AES 128 encryption.\n",
    "\n",
    "# Challenge\n",
    "\n",
    "Retrieve the AES key used to encrypt the data\n",
    "\n",
    "### Characterization\n",
    "\n",
    "To characterize the best parameters, you will have to glitch a simple function which counts up to 2500. If the right parameters are set, the device should reply with a value different than that.\n",
    "\n",
    "### Attack\n",
    "\n",
    "To attack this implementation, you have several options :\n",
    "\n",
    " - Attacks on the 8th round of AES\n",
    " - Attacks on the 9th round of AES (See the slides about fault propagation to see the patterns)\n",
    " - Attacks on the 10th round, before the SBox operation\n",
    " - Attacks on the 10th round, during the last AddRoundKey\n",
    "\n",
    "Some of the attacks are implemented in the [phoenixAES](https://github.com/SideChannelMarvels/JeanGrey) library"
   ]
  },
  {
   "cell_type": "code",
   "execution_count": null,
   "id": "dca27d61-362e-4524-a965-d32443926fd9",
   "metadata": {
    "tags": []
   },
   "outputs": [],
   "source": [
    "#Imports\n",
    "\n",
    "import chipwhisperer as cw\n",
    "import numpy as np\n",
    "import time\n",
    "import matplotlib.pyplot as plt"
   ]
  },
  {
   "cell_type": "code",
   "execution_count": null,
   "id": "a4840721-fe0f-4cdb-8193-354d9d8e8d3d",
   "metadata": {
    "tags": []
   },
   "outputs": [],
   "source": [
    "# Chipwhisperer basic configuration\n",
    "\n",
    "scope = cw.scope()\n",
    "target = cw.target(scope, cw.targets.SimpleSerial2)\n",
    "prog = cw.programmers.STM32FProgrammer\n",
    "scope.default_setup()\n",
    "\n",
    "#Chipwhisperer clock is fed to the target chip\n",
    "scope.clock.clkgen_freq = 24E6\n",
    "target.baud = 230400*24/7.37\n",
    "\n",
    "cw.set_all_log_levels(cw.logging.CRITICAL)\n",
    "\n",
    "# Already decimate the ADC samples. This way, ext_offset matches the ADC samples\n",
    "scope.adc.samples = 8000\n",
    "scope.adc.decimate = 4"
   ]
  },
  {
   "cell_type": "code",
   "execution_count": null,
   "id": "657eee5c-a0f2-422a-9d8e-2174963b027e",
   "metadata": {
    "tags": []
   },
   "outputs": [],
   "source": [
    "#Helper functions\n",
    "\n",
    "def target_reset():\n",
    "    scope.io.nrst = 'low'\n",
    "    time.sleep(0.05)\n",
    "    scope.io.nrst = 'high_z'\n",
    "    time.sleep(0.05)\n",
    "    target.flush()\n"
   ]
  },
  {
   "cell_type": "code",
   "execution_count": null,
   "id": "f23c6d39-2d33-455e-9bac-b2be0905caf4",
   "metadata": {
    "tags": []
   },
   "outputs": [],
   "source": [
    "#Test that everything goes well by sending the loop command and check its output\n",
    "\n",
    "target_reset()\n",
    "scope.arm()\n",
    "target.simpleserial_write(\"g\", bytearray([]))\n",
    "scope.capture()\n",
    "val = target.simpleserial_read_witherrors('r', 4, glitch_timeout=10)#For loop check\n",
    "valid = val['valid']\n",
    "if valid:\n",
    "    response = val['payload']\n",
    "    raw_serial = val['full_response']\n",
    "    error_code = val['rv']\n",
    "\n",
    "print(val)\n",
    "# Should print\n",
    "# {'valid': True, 'payload': CWbytearray(b'c4 09 00 00'), 'full_response': CWbytearray(b'00 72 04 c4 09 00 00 15 00'), 'rv': bytearray(b'\\x00')}"
   ]
  },
  {
   "cell_type": "code",
   "execution_count": null,
   "id": "622af3e7-1f6e-43a3-a835-36c5de814dc7",
   "metadata": {},
   "outputs": [],
   "source": [
    "#Encrypt a plaintext and retrieve the ciphertext\n",
    "# This can be used as your reference ciphertext for further attacks\n",
    "\n",
    "target_reset()\n",
    "scope.arm()\n",
    "target.simpleserial_write(\"p\", b'0123456789abcdef')\n",
    "scope.capture()\n",
    "val = target.simpleserial_read_witherrors('r', 16, glitch_timeout=10)#For loop check\n",
    "valid = val['valid']\n",
    "if valid:\n",
    "    response = val['payload']\n",
    "    print(response)\n",
    "    CLEAN_CIPHERTEXT = response\n"
   ]
  },
  {
   "cell_type": "code",
   "execution_count": null,
   "id": "e9f40b1f-ffa3-4a17-929c-900237d5f8aa",
   "metadata": {},
   "outputs": [],
   "source": [
    "# For the last encryption, show the associated power trace\n",
    "\n",
    "plt.plot(scope.get_last_trace())"
   ]
  },
  {
   "cell_type": "code",
   "execution_count": null,
   "id": "31d1f7d2-26be-4493-b898-cd21cf57d202",
   "metadata": {
    "tags": []
   },
   "outputs": [],
   "source": [
    "#Basic glitch settings\n",
    "\n",
    "scope.glitch.clk_src = \"clkgen\" # glitch counters use the main clock (24MHz)\n",
    "scope.glitch.output = \"glitch_only\" # Glitch output signal\n",
    "scope.glitch.trigger_src = \"ext_single\" # glitch only after scope.arm() called\n",
    "scope.io.glitch_lp = True # Enable low power MOSFET\n",
    "scope.io.glitch_hp = True # Enable high power MOSFET\n",
    "scope.glitch.repeat = 7 # Number of successive glitches, 7 should be OK for our target"
   ]
  },
  {
   "cell_type": "code",
   "execution_count": null,
   "id": "70c63476-dcd1-41e3-86f7-fec8323e8c5b",
   "metadata": {
    "tags": []
   },
   "outputs": [],
   "source": [
    "# Characterization loop\n",
    "\n",
    "# Thic block will iterate over some of the glitch parameters to locate the \"sweet spot\"\n",
    "# where the glitches produce an effect\n",
    "\n",
    "# Change this block accordingly in order to find the parameters that produce\n",
    "# the maximum amount of glitches before going further the template\n",
    "\n",
    "# ext_offset is the number of clock cycles after the trigger\n",
    "\n",
    "for ext_offset in range(1,2):\n",
    "    scope.glitch.ext_offset = ext_offset\n",
    "    \n",
    "    # offset is the percentage into the clock cycle where the glitch starts\n",
    "    for offset in np.arange(-40.0, 40.0, 0.2):\n",
    "        scope.glitch.offset = offset\n",
    "        \n",
    "        # Width is the percentage of the period to glitch\n",
    "        for width in  np.arange(32, 39, 0.2):\n",
    "            scope.glitch.width = width\n",
    "            \n",
    "            # Repeat each iteration 5 times to ensure we get consistant results\n",
    "            count = 0\n",
    "            for _ in range(5):\n",
    "                \n",
    "                #Fun starts here\n",
    "                target_reset()\n",
    "                scope.arm()\n",
    "                target.simpleserial_write(\"g\", bytearray([]))\n",
    "                ret = scope.capture()\n",
    "                \n",
    "                # read response from target\n",
    "                val = target.simpleserial_read_witherrors('r', 4, glitch_timeout=10, timeout=30)\n",
    "                \n",
    "                # If no response from the chip, assume it crashed\n",
    "                if val['valid'] is False:\n",
    "                    print(\"X\", end=\"\")\n",
    "                    continue\n",
    "                \n",
    "                # if counter is different thant the correct value, print the results\n",
    "                counter = int.from_bytes(val['payload'], byteorder='little')\n",
    "                if counter != 2500:\n",
    "                    count += 1\n",
    "                    print(f\"*{counter:08d}*\", end=\"\")\n",
    "                    \n",
    "                else:\n",
    "                    print(\".\", end=\"\")\n",
    "            if count > 0:\n",
    "                print()\n",
    "                print(f\"Count {count:02d}\\text_offset {ext_offset:02d}\\tWidth {width:0.2f}\\tOffset {offset:0.2f}\")"
   ]
  },
  {
   "cell_type": "code",
   "execution_count": null,
   "id": "2267b1f4-0e63-4215-a3a6-031ab4ca6bd3",
   "metadata": {
    "tags": []
   },
   "outputs": [],
   "source": [
    "# ext_offset is the number of clock cycles after the trigger\n",
    "for ext_offset in range(1,30): #TODO set ext_offset to reach the desired round\n",
    "    scope.glitch.ext_offset = ext_offset\n",
    "    \n",
    "    # offset is the percentage into the clock cycle where the glitch starts\n",
    "    for offset in np.arange(-30.0, -20.0, 0.2): # TODO shorten range\n",
    "        scope.glitch.offset = offset\n",
    "        \n",
    "        # Width is the percentage of the period to glitch\n",
    "        for width in  np.arange(38, 39, 0.2): # TODO shorten range\n",
    "            scope.glitch.width = width\n",
    "\n",
    "\n",
    "            for _ in range(5):\n",
    "\n",
    "                #Fun starts here\n",
    "\n",
    "                target_reset()\n",
    "                scope.arm()\n",
    "                # Send dummy password\n",
    "                target.simpleserial_write(\"p\", b'0123456789abcdef')\n",
    "                ret = scope.capture()\n",
    "\n",
    "                val = target.simpleserial_read_witherrors('r', 16, glitch_timeout=10, timeout=30)\n",
    "                if val['valid'] is False:\n",
    "                    print(\"X\", end=\"\")\n",
    "                    continue\n",
    "\n",
    "                result = val['payload']\n",
    "                if result != CLEAN_CIPHERTEXT:\n",
    "                    xor = bytes(a ^ b for (a, b) in zip(CLEAN_CIPHERTEXT, result))\n",
    "                    print()\n",
    "                    print(f\"ext_offset {ext_offset:02d}\\tWidth {width:0.2f}\\tOffset {offset:0.2f}\\tResult {result.hex()}\\txor: {xor.hex()}\")\n",
    "                    try:\n",
    "                        print(result.decode())\n",
    "                    except:\n",
    "                        pass\n",
    "\n",
    "                else:\n",
    "                    print(\".\", end=\"\")\n"
   ]
  },
  {
   "cell_type": "code",
   "execution_count": null,
   "id": "c7fd38f8-58fb-4d47-9dd0-f552cf42de8e",
   "metadata": {
    "tags": []
   },
   "outputs": [],
   "source": [
    "scope.dis()"
   ]
  }
 ],
 "metadata": {
  "kernelspec": {
   "display_name": "Python 3 (ipykernel)",
   "language": "python",
   "name": "python3"
  },
  "language_info": {
   "codemirror_mode": {
    "name": "ipython",
    "version": 3
   },
   "file_extension": ".py",
   "mimetype": "text/x-python",
   "name": "python",
   "nbconvert_exporter": "python",
   "pygments_lexer": "ipython3",
   "version": "3.11.3"
  }
 },
 "nbformat": 4,
 "nbformat_minor": 5
}
